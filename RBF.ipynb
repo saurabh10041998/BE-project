{
  "nbformat": 4,
  "nbformat_minor": 0,
  "metadata": {
    "colab": {
      "name": "Untitled1.ipynb",
      "provenance": [],
      "collapsed_sections": []
    },
    "kernelspec": {
      "name": "python3",
      "display_name": "Python 3"
    },
    "accelerator": "GPU"
  },
  "cells": [
    {
      "cell_type": "code",
      "metadata": {
        "id": "0Bm1w6bOaoeA",
        "colab_type": "code",
        "colab": {}
      },
      "source": [
        "import numpy as np"
      ],
      "execution_count": 0,
      "outputs": []
    },
    {
      "cell_type": "code",
      "metadata": {
        "id": "KPSw3FRvcU2p",
        "colab_type": "code",
        "colab": {}
      },
      "source": [
        "data = np.load('mnist_data.npy').astype(float)\n",
        "\n",
        "train_y = data[0:5000, 0]\n",
        "train_x = data[0:5000, 1:]\n",
        "\n",
        "test_y = data[0:1000, 0]\n",
        "test_x = data[0:1000, 1:]"
      ],
      "execution_count": 0,
      "outputs": []
    },
    {
      "cell_type": "code",
      "metadata": {
        "id": "JH_71t_9gFka",
        "colab_type": "code",
        "colab": {}
      },
      "source": [
        "def get_distance(x1, x2):\n",
        "  sum = 0\n",
        "  for i in range(len(x1)):\n",
        "    sum += (x1[i] - x2[i]) ** 2\n",
        "  return np.sqrt(sum)\n",
        "\n",
        "def kmeans(X, k, max_iters):\n",
        "  centroids =  X[np.random.choice(range(len(X)), k, replace=False)]\n",
        "  converged = False\n",
        "  num_iter = 1\n",
        "  while (not converged) and (num_iter < max_iters):\n",
        "    cluster_list = [[] for i in range(len(centroids))]\n",
        "\n",
        "    for x in X:\n",
        "      distance_list = []\n",
        "      for c in centroids:\n",
        "        distance_list.append(get_distance(c, x))\n",
        "      cluster_list[int(np.argmin(distance_list))].append(x)\n",
        "    cluster_list = list((filter(None, cluster_list)))\n",
        "\n",
        "    prev_centroids = centroids.copy()\n",
        "\n",
        "    centroids = []\n",
        "\n",
        "    for j in range(len(cluster_list)):\n",
        "      centroids.append(np.mean(cluster_list[j], axis=0))\n",
        "    \n",
        "    pattern = np.abs(np.sum(prev_centroids) - np.sum(centroids))\n",
        "    print(pattern)\n",
        "\n",
        "    converged = (pattern == 0)\n",
        "    num_iter +=1\n",
        "  return np.array(centroids), [np.std(x) for x in cluster_list]"
      ],
      "execution_count": 0,
      "outputs": []
    },
    {
      "cell_type": "code",
      "metadata": {
        "id": "O7n-j2aWiyHi",
        "colab_type": "code",
        "colab": {}
      },
      "source": [
        "class RBF:\n",
        "  def __init__(self, X, y, tX, ty, num_of_classes, k, std_from_clusters=True):\n",
        "    self.X = X\n",
        "    self.y = y\n",
        "    self.tX = tX\n",
        "    self.ty = ty\n",
        "\n",
        "    self.number_of_classes = num_of_classes\n",
        "    self.k = k\n",
        "    self.std_from_clusters = std_from_clusters\n",
        "  \n",
        "  def convert_to_one_hot(self, x, num_of_classes):\n",
        "    arr = np.zeros((len(x), num_of_classes))\n",
        "    for i in range(len(x)):\n",
        "      c = int(x[i])\n",
        "      arr[i][c] = 1\n",
        "    return arr\n",
        "  \n",
        "  def rbf(self, x, c, s):\n",
        "    distance = get_distance(x, c)\n",
        "    return 1/np.exp(-distance/s**2)\n",
        "  \n",
        "  def rbf_list(self, X, centroids, std_list):\n",
        "    RBF_list = []\n",
        "    for x in X:\n",
        "      RBF_list.append([self.rbf(x, c, s) for (c,s) in zip(centroids, std_list)])\n",
        "    return np.array(RBF_list)\n",
        "  \n",
        "  def fit(self):\n",
        "    self.centroids, self.std_list = kmeans(self.X, self.k, max_iters=10)\n",
        "\n",
        "    if not self.std_from_clusters:\n",
        "      dMax = np.max([get_distance(c1, c2) for c1 in self.centroids for c2 in self.centroids])\n",
        "      self.std_list = np.repeat(dMax/ np.sqrt(2 * self.k), self.k)\n",
        "    \n",
        "    RBF_X = self.rbf_list(self.X, self.centroids, self.std_list)\n",
        "\n",
        "    self.w = np.linalg.pinv(RBF_X.T @ RBF_X) @ RBF_X.T @ self.convert_to_one_hot(self.y, self.number_of_classes)\n",
        "\n",
        "    RBF_list_tst = self.rbf_list(self.tX, self.centroids, self.std_list)\n",
        "\n",
        "    self.pred_ty = RBF_list_tst @ self.w\n",
        "\n",
        "    self.pred_ty = np.array([np.argmax(x) for x in self.pred_ty])\n",
        "\n",
        "    diff = self.pred_ty - self.ty\n",
        "\n",
        "    print('Accuracy: ', len(np.where(diff == 0)[0])/len(diff))\n",
        "\n"
      ],
      "execution_count": 0,
      "outputs": []
    },
    {
      "cell_type": "code",
      "metadata": {
        "id": "twu3MwUbn1nI",
        "colab_type": "code",
        "colab": {
          "base_uri": "https://localhost:8080/",
          "height": 191
        },
        "outputId": "c43ac826-de3e-4a5a-b020-68c70e6bc6eb"
      },
      "source": [
        "RBF_CLASSIFIER = RBF(train_x, train_y, test_x,test_y, num_of_classes=10, k=50,std_from_clusters=False)\n",
        "RBF_CLASSIFIER.fit()"
      ],
      "execution_count": 33,
      "outputs": [
        {
          "output_type": "stream",
          "text": [
            "48.47938258668728\n",
            "19.381732781024766\n",
            "7.901550905377007\n",
            "12.437165381312298\n",
            "7.64360756572205\n",
            "9.46325963628442\n",
            "4.281485917625105\n",
            "0.9237429909635466\n",
            "1.106576508262151\n",
            "Accuracy:  1.0\n"
          ],
          "name": "stdout"
        }
      ]
    }
  ]
}