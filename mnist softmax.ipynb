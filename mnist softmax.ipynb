{
 "cells": [
  {
   "cell_type": "code",
   "execution_count": 1,
   "metadata": {},
   "outputs": [
    {
     "name": "stdout",
     "output_type": "stream",
     "text": [
      "['sign-language-digits-dataset.zip', 'X.npy', 'Y.npy']\n"
     ]
    }
   ],
   "source": [
    "#starting new series of implementation on kaggle\n",
    "import numpy as np\n",
    "import pandas as pd\n",
    "import matplotlib.pyplot as plt\n",
    "import warnings\n",
    "\n",
    "warnings.filterwarnings('ignore')\n",
    "import os\n",
    "print(os.listdir(\"D:/projects/nlp/word2vec/dataset\"))"
   ]
  },
  {
   "cell_type": "code",
   "execution_count": 2,
   "metadata": {
    "scrolled": true
   },
   "outputs": [
    {
     "data": {
      "text/plain": [
       "(-0.5, 63.5, 63.5, -0.5)"
      ]
     },
     "execution_count": 2,
     "metadata": {},
     "output_type": "execute_result"
    },
    {
     "data": {
      "image/png": "[encoded data removed]",
      "text/plain": [
       "<Figure size 432x288 with 2 Axes>"
      ]
     },
     "metadata": {
      "needs_background": "light"
     },
     "output_type": "display_data"
    }
   ],
   "source": [
    "# load the dataset\n",
    "x_l = np.load('./dataset/X.npy')\n",
    "y_l = np.load('./dataset/Y.npy')\n",
    "\n",
    "img_size = 64\n",
    "plt.subplot(1, 2, 1)\n",
    "plt.imshow(x_l[260].reshape(img_size, img_size))\n",
    "plt.axis('off')\n",
    "plt.subplot(1, 2, 2)\n",
    "plt.imshow(x_l[900].reshape(img_size, img_size))\n",
    "plt.axis('off')"
   ]
  },
  {
   "cell_type": "code",
   "execution_count": 3,
   "metadata": {},
   "outputs": [
    {
     "name": "stdout",
     "output_type": "stream",
     "text": [
      "X shape  (410, 64, 64)\n",
      "Y shape (410, 1)\n"
     ]
    }
   ],
   "source": [
    "X = np.concatenate((x_l[204:409], x_l[822:1027]), axis = 0)\n",
    "z = np.zeros(205)\n",
    "o = np.ones(205)\n",
    "Y = np.concatenate((z, o), axis = 0).reshape(X.shape[0],1)\n",
    "print(\"X shape \", X.shape)\n",
    "print(\"Y shape\", Y.shape)"
   ]
  },
  {
   "cell_type": "code",
   "execution_count": 4,
   "metadata": {},
   "outputs": [],
   "source": [
    "from sklearn.model_selection import train_test_split\n",
    "X_train, X_test, Y_train, Y_test = train_test_split(X, Y, test_size=0.15, random_state=42)\n",
    "number_of_train = X_train.shape[0]\n",
    "number_of_test = X_test.shape[0]"
   ]
  },
  {
   "cell_type": "code",
   "execution_count": 5,
   "metadata": {},
   "outputs": [
    {
     "name": "stdout",
     "output_type": "stream",
     "text": [
      "X train flatten (348, 4096)\n",
      "X test flatten (62, 4096)\n"
     ]
    }
   ],
   "source": [
    "X_train_flatten = X_train.reshape(number_of_train, X_train.shape[1]*X_train.shape[2])\n",
    "X_test_flatten = X_test.reshape(number_of_test, X_test.shape[1] * X_test.shape[2])\n",
    "\n",
    "print(\"X train flatten\", X_train_flatten.shape)\n",
    "print(\"X test flatten\", X_test_flatten.shape)\n"
   ]
  },
  {
   "cell_type": "code",
   "execution_count": 6,
   "metadata": {},
   "outputs": [
    {
     "name": "stdout",
     "output_type": "stream",
     "text": [
      "X train: (4096, 348)\n",
      "X test: (4096, 62)\n",
      "Y train: (1, 348)\n",
      "Y test: (1, 62)\n"
     ]
    }
   ],
   "source": [
    "x_train = X_train_flatten.T\n",
    "x_test = X_test_flatten.T\n",
    "y_train = Y_train.T\n",
    "y_test = Y_test.T \n",
    "\n",
    "print(\"X train:\", x_train.shape)\n",
    "print(\"X test:\", x_test.shape)\n",
    "print(\"Y train:\", y_train.shape)\n",
    "print(\"Y test:\",y_test.shape )"
   ]
  },
  {
   "cell_type": "code",
   "execution_count": 7,
   "metadata": {},
   "outputs": [],
   "source": [
    "def dummy(parameter):\n",
    "    dummy_parameter = parameter + 5\n",
    "    return dummy_parameter\n",
    "result = dummy(3)\n",
    "\n",
    "\n",
    "def initialize_weights_and_bias(dimension):\n",
    "    w = np.full((dimension, 1), 0.01)\n",
    "    b = 0.0\n",
    "    return w, b\n"
   ]
  },
  {
   "cell_type": "code",
   "execution_count": 8,
   "metadata": {},
   "outputs": [],
   "source": [
    "def sigmoid(z):\n",
    "    y_head = 1/(1 + np.exp(-z))\n",
    "    return y_head"
   ]
  },
  {
   "cell_type": "code",
   "execution_count": 9,
   "metadata": {},
   "outputs": [
    {
     "data": {
      "text/plain": [
       "0.5"
      ]
     },
     "execution_count": 9,
     "metadata": {},
     "output_type": "execute_result"
    }
   ],
   "source": [
    "y_head = sigmoid(0)\n",
    "y_head"
   ]
  },
  {
   "cell_type": "markdown",
   "metadata": {},
   "source": [
    "##### loss function:\n",
    "f = -(1-y)log(1-y')-ylogy'\n",
    "where \n",
    "    y : predicted value/label\n",
    "    y' : actual value/label\n",
    "incorrect => high loss\n",
    "#### cost function\n",
    "cost_func = sum(f)"
   ]
  },
  {
   "cell_type": "code",
   "execution_count": 10,
   "metadata": {},
   "outputs": [],
   "source": [
    "def forward_backward_propagation(w, b, x_train, y_train):\n",
    "    z = np.dot(w.T, x_train) + b\n",
    "    y_head = sigmoid(z)\n",
    "    loss = -y_train*np.log(y_head)-(1-y_train)*np.log(1-y_head)\n",
    "    cost = (np.sum(loss))/x_train.shape[1] #cost per pixel\n",
    "    \n",
    "    \n",
    "    #backward propagation\n",
    "    derivative_weight = (np.dot(x_train, ((y_head - y_train).T)))/ x_train.shape[1]\n",
    "    derivative_bias = np.sum(y_head - y_train) / x_train.shape[1]\n",
    "    gradients = {\"derivative_weight\": derivative_weight, \"derivative_bias\":derivative_bias}\n",
    "    return cost,gradients"
   ]
  },
  {
   "cell_type": "code",
   "execution_count": 11,
   "metadata": {},
   "outputs": [],
   "source": [
    "def update(w, b, x_train, y_train, learning_rate, number_of_iteration):\n",
    "    cost_list = []\n",
    "    cost_list2 = []\n",
    "    index = []\n",
    "    \n",
    "    # updating(learning) parameters is number_of_iterations time\n",
    "    for i in range(number_of_iteration):\n",
    "        # make the forward and backward propagation to find cost and gradients\n",
    "        cost, gradients = forward_backward_propagation(w, b, x_train, y_train)\n",
    "        #print(cost)\n",
    "        cost_list.append(cost)\n",
    "        \n",
    "        #lets update(learn)\n",
    "        w = w - learning_rate * gradients[\"derivative_weight\"]\n",
    "        b = b - learning_rate * gradients[\"derivative_bias\"]\n",
    "        \n",
    "        if i % 10 == 0 :\n",
    "            cost_list2.append(cost)\n",
    "            index.append(i)\n",
    "            print(\"Cost after iteration %i: %f\" %(i, cost))\n",
    "        #we update(learn) parameters weights and bias\n",
    "    parameters = {\"weight\": w, \"bias\": b}\n",
    "    plt.plot(index, cost_list2)\n",
    "    plt.xticks(index, rotation= \"vertical\")\n",
    "    plt.xlabel(\"Number of iteration\")\n",
    "    plt.ylabel(\"Cost\")\n",
    "    plt.show()\n",
    "    return parameters, gradients, cost_list\n",
    "        "
   ]
  },
  {
   "cell_type": "code",
   "execution_count": 12,
   "metadata": {},
   "outputs": [],
   "source": [
    "# Prediction\n",
    "def predict(w, b, x_test):\n",
    "    # x_test is input for forward_propagation\n",
    "    z = sigmoid(np.dot(w.T, x_test) + b)\n",
    "    #print(z.shape)\n",
    "    Y_prediction = np.zeros((1, x_test.shape[1]))\n",
    "    # if z > 0.5, sign one\n",
    "    # if z <= 0.5, sign zero\n",
    "    \n",
    "    for i in range(z.shape[1]):\n",
    "        if z[0, i] <= 0.5:\n",
    "            Y_prediction[0, i] = 0\n",
    "        else:\n",
    "            Y_prediction[0, i] = 1\n",
    "    return Y_prediction"
   ]
  },
  {
   "cell_type": "code",
   "execution_count": 13,
   "metadata": {},
   "outputs": [
    {
     "name": "stdout",
     "output_type": "stream",
     "text": [
      "Cost after iteration 0: 14.014222\n",
      "Cost after iteration 10: 2.544689\n",
      "Cost after iteration 20: 2.577950\n",
      "Cost after iteration 30: 2.397999\n",
      "Cost after iteration 40: 2.185019\n",
      "Cost after iteration 50: 1.968348\n",
      "Cost after iteration 60: 1.754195\n",
      "Cost after iteration 70: 1.535079\n",
      "Cost after iteration 80: 1.297567\n",
      "Cost after iteration 90: 1.031919\n",
      "Cost after iteration 100: 0.737019\n",
      "Cost after iteration 110: 0.441355\n",
      "Cost after iteration 120: 0.252278\n",
      "Cost after iteration 130: 0.205168\n",
      "Cost after iteration 140: 0.196168\n"
     ]
    },
    {
     "data": {
      "image/png": "[encoded data removed]",
      "text/plain": [
       "<Figure size 432x288 with 1 Axes>"
      ]
     },
     "metadata": {
      "needs_background": "light"
     },
     "output_type": "display_data"
    },
    {
     "name": "stdout",
     "output_type": "stream",
     "text": [
      "train accuracy: 92.816091954023 %\n",
      "test accuracy: 93.54838709677419 %\n"
     ]
    }
   ],
   "source": [
    "# putting it all together\n",
    "\n",
    "def logistic_regression(x_train, y_train, x_test, y_test, learning_rate, num_iterations):\n",
    "    # initiallize\n",
    "    dimension = x_train.shape[0]\n",
    "    w, b = initialize_weights_and_bias(dimension)\n",
    "    # do not change learning rate\n",
    "    parameters, gradients, cost_list = update(w, b, x_train, y_train, learning_rate, num_iterations)\n",
    "    \n",
    "    y_prediction_test = predict(parameters[\"weight\"], parameters[\"bias\"], x_test)\n",
    "    y_prediction_train = predict(parameters[\"weight\"], parameters[\"bias\"], x_train)\n",
    "    \n",
    "    #print train/test errors\n",
    "    print(\"train accuracy: {} %\".format(100 - np.mean(np.abs(y_prediction_train - y_train)) * 100))\n",
    "    print(\"test accuracy: {} %\".format(100 - np.mean(np.abs(y_prediction_test - y_test))* 100))\n",
    "    \n",
    "logistic_regression(x_train, y_train, x_test, y_test, learning_rate=0.01, num_iterations = 150)"
   ]
  },
  {
   "cell_type": "code",
   "execution_count": 14,
   "metadata": {},
   "outputs": [
    {
     "name": "stdout",
     "output_type": "stream",
     "text": [
      "test accuracy : 0.967741935483871 \n",
      "train accuracy: 1.0 \n"
     ]
    }
   ],
   "source": [
    "# Logistic regression from sklearn\n",
    "from sklearn import linear_model\n",
    "logrel = linear_model.LogisticRegression(random_state=42, max_iter=150)\n",
    "print(\"test accuracy : {} \".format(logrel.fit(x_train.T, y_train.T).score(x_test.T, y_test.T)))\n",
    "print(\"train accuracy: {} \".format(logrel.fit(x_train.T, y_train.T).score(x_train.T, y_train.T)))"
   ]
  },
  {
   "cell_type": "markdown",
   "metadata": {},
   "source": [
    "### Using artificial neural network(ANN)"
   ]
  },
  {
   "cell_type": "code",
   "execution_count": 16,
   "metadata": {},
   "outputs": [],
   "source": [
    "def intialize_paramters_and_layer_sizes_NN(x_train, y_train):\n",
    "    parameters = {\"weight1\":np.random.randn(3, x_train.shape[0]) * 0.1, \"bias1\": np.zeros((3,1)),  \"weight2\": np.random.randn(y_train.shape[0], 3), \"bias2\": np.zeros((y_train.shape[0], 1))}\n",
    "    return parameters"
   ]
  },
  {
   "cell_type": "code",
   "execution_count": 17,
   "metadata": {},
   "outputs": [],
   "source": [
    "def forward_propagation_NN(x_train, parameters):\n",
    "    z1 = np.dot(parameters[\"Weight1\"], x_train) +  parameters[\"bias1\"]\n",
    "    A1 = np.tanh(Z1)\n",
    "    Z2 = np.dot(parameters[\"weight2\"], A1) + parameters[\"bias2\"]\n",
    "    A2 = sigmoid(Z2)\n",
    "    \n",
    "    cache = {\"Z1\": Z1, \"A1\": A1, \"Z2\": Z2 ,\"A2\" : A2}\n",
    "    return A2, cache"
   ]
  },
  {
   "cell_type": "code",
   "execution_count": 19,
   "metadata": {},
   "outputs": [],
   "source": [
    "def compute_cost_NN(A2, Y, parameters):\n",
    "    logprobs = np.multiply(np.log(A2), Y)\n",
    "    cost = -np.sum(logprobs)/Y.shape[1]\n",
    "    return cost"
   ]
  },
  {
   "cell_type": "code",
   "execution_count": null,
   "metadata": {},
   "outputs": [],
   "source": [
    "def backward_propagation_NN(parameters, cache, X, Y):\n",
    "    dZ2 = cache[\"A2\"] - Y\n",
    "    dW2 = np.dot(dZ2, cache[\"A1\"].T)/ X.shape[1]\n",
    "    db2 = np.sum(dZ2, axis=1, keepdims=True)/ X.shape[1]\n",
    "    \n",
    "    "
   ]
  }
 ],
 "metadata": {
  "kernelspec": {
   "display_name": "Python 3",
   "language": "python",
   "name": "python3"
  },
  "language_info": {
   "codemirror_mode": {
    "name": "ipython",
    "version": 3
   },
   "file_extension": ".py",
   "mimetype": "text/x-python",
   "name": "python",
   "nbconvert_exporter": "python",
   "pygments_lexer": "ipython3",
   "version": "3.7.1"
  }
 },
 "nbformat": 4,
 "nbformat_minor": 2
}
